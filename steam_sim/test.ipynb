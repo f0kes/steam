{
 "cells": [
  {
   "cell_type": "code",
   "execution_count": 17,
   "id": "e2b03f273b695c91",
   "metadata": {
    "ExecuteTime": {
     "end_time": "2024-04-20T10:26:42.938341739Z",
     "start_time": "2024-04-20T10:26:42.643295345Z"
    },
    "collapsed": false
   },
   "outputs": [],
   "source": [
    "\n",
    "\n",
    "import matplotlib.pyplot as plt\n",
    "import numpy as np"
   ]
  },
  {
   "cell_type": "code",
   "execution_count": 1,
   "id": "initial_id",
   "metadata": {
    "ExecuteTime": {
     "end_time": "2024-04-20T10:14:05.381859141Z",
     "start_time": "2024-04-20T10:14:05.102168337Z"
    },
    "collapsed": true
   },
   "outputs": [
    {
     "name": "stdout",
     "output_type": "stream",
     "text": [
      "Connected to PostgreSQL database successfully.\n"
     ]
    }
   ],
   "source": [
    "from RecVAE.postgres_loader import PostgreSQLWrapper\n",
    "\n",
    "pg = PostgreSQLWrapper(PARAMS)\n",
    "pg.connect()"
   ]
  },
  {
   "cell_type": "code",
   "execution_count": 3,
   "id": "d29189fcd7af96d7",
   "metadata": {
    "ExecuteTime": {
     "end_time": "2024-04-20T10:20:16.219651655Z",
     "start_time": "2024-04-20T10:20:02.380451145Z"
    },
    "collapsed": false
   },
   "outputs": [
    {
     "name": "stderr",
     "output_type": "stream",
     "text": [
      "/var/home/f0kes/dev/vae-cf-2/RecVAE/postgres_loader.py:45: UserWarning: pandas only supports SQLAlchemy connectable (engine/connection) or database string URI or sqlite3 DBAPI2 connection. Other DBAPI2 objects are not tested. Please consider using SQLAlchemy.\n",
      "  df = pd.read_sql(query, self.conn)\n"
     ]
    },
    {
     "ename": "KeyboardInterrupt",
     "evalue": "",
     "output_type": "error",
     "traceback": [
      "\u001b[0;31m---------------------------------------------------------------------------\u001b[0m",
      "\u001b[0;31mKeyboardInterrupt\u001b[0m                         Traceback (most recent call last)",
      "Cell \u001b[0;32mIn[3], line 7\u001b[0m\n\u001b[1;32m      1\u001b[0m query \u001b[38;5;241m=\u001b[39m \u001b[38;5;124m\"\"\"\u001b[39m\u001b[38;5;124mSELECT DISTINCT ON (steam_id,game_id) steam_id, game_id, playtime_forever, playtime_two_weeks\u001b[39m\n\u001b[1;32m      2\u001b[0m \u001b[38;5;124mFROM public.played_time\u001b[39m\n\u001b[1;32m      3\u001b[0m \u001b[38;5;124mORDER BY steam_id, game_id, time_stamp DESC\u001b[39m\n\u001b[1;32m      4\u001b[0m \n\u001b[1;32m      5\u001b[0m \u001b[38;5;124m                    \u001b[39m\n\u001b[1;32m      6\u001b[0m \u001b[38;5;124m        \u001b[39m\u001b[38;5;124m\"\"\"\u001b[39m\n\u001b[0;32m----> 7\u001b[0m df \u001b[38;5;241m=\u001b[39m \u001b[43mpg\u001b[49m\u001b[38;5;241;43m.\u001b[39;49m\u001b[43mload_data_into_dataframe\u001b[49m\u001b[43m(\u001b[49m\u001b[43mquery\u001b[49m\u001b[43m)\u001b[49m\n\u001b[1;32m      8\u001b[0m df\u001b[38;5;241m.\u001b[39mhead()\n",
      "File \u001b[0;32m/var/home/f0kes/dev/vae-cf-2/RecVAE/postgres_loader.py:45\u001b[0m, in \u001b[0;36mPostgreSQLWrapper.load_data_into_dataframe\u001b[0;34m(self, query)\u001b[0m\n\u001b[1;32m     43\u001b[0m \u001b[38;5;28;01mdef\u001b[39;00m \u001b[38;5;21mload_data_into_dataframe\u001b[39m(\u001b[38;5;28mself\u001b[39m, query) \u001b[38;5;241m-\u001b[39m\u001b[38;5;241m>\u001b[39m pd\u001b[38;5;241m.\u001b[39mDataFrame:\n\u001b[1;32m     44\u001b[0m     \u001b[38;5;28;01mtry\u001b[39;00m:\n\u001b[0;32m---> 45\u001b[0m         df \u001b[38;5;241m=\u001b[39m \u001b[43mpd\u001b[49m\u001b[38;5;241;43m.\u001b[39;49m\u001b[43mread_sql\u001b[49m\u001b[43m(\u001b[49m\u001b[43mquery\u001b[49m\u001b[43m,\u001b[49m\u001b[43m \u001b[49m\u001b[38;5;28;43mself\u001b[39;49m\u001b[38;5;241;43m.\u001b[39;49m\u001b[43mconn\u001b[49m\u001b[43m)\u001b[49m\n\u001b[1;32m     46\u001b[0m         \u001b[38;5;28;01mreturn\u001b[39;00m df\n\u001b[1;32m     47\u001b[0m     \u001b[38;5;28;01mexcept\u001b[39;00m \u001b[38;5;167;01mException\u001b[39;00m \u001b[38;5;28;01mas\u001b[39;00m e:\n",
      "File \u001b[0;32m/var/home/f0kes/dev/vae-cf-2/.venv/lib/python3.11/site-packages/pandas/io/sql.py:706\u001b[0m, in \u001b[0;36mread_sql\u001b[0;34m(sql, con, index_col, coerce_float, params, parse_dates, columns, chunksize, dtype_backend, dtype)\u001b[0m\n\u001b[1;32m    704\u001b[0m \u001b[38;5;28;01mwith\u001b[39;00m pandasSQL_builder(con) \u001b[38;5;28;01mas\u001b[39;00m pandas_sql:\n\u001b[1;32m    705\u001b[0m     \u001b[38;5;28;01mif\u001b[39;00m \u001b[38;5;28misinstance\u001b[39m(pandas_sql, SQLiteDatabase):\n\u001b[0;32m--> 706\u001b[0m         \u001b[38;5;28;01mreturn\u001b[39;00m \u001b[43mpandas_sql\u001b[49m\u001b[38;5;241;43m.\u001b[39;49m\u001b[43mread_query\u001b[49m\u001b[43m(\u001b[49m\n\u001b[1;32m    707\u001b[0m \u001b[43m            \u001b[49m\u001b[43msql\u001b[49m\u001b[43m,\u001b[49m\n\u001b[1;32m    708\u001b[0m \u001b[43m            \u001b[49m\u001b[43mindex_col\u001b[49m\u001b[38;5;241;43m=\u001b[39;49m\u001b[43mindex_col\u001b[49m\u001b[43m,\u001b[49m\n\u001b[1;32m    709\u001b[0m \u001b[43m            \u001b[49m\u001b[43mparams\u001b[49m\u001b[38;5;241;43m=\u001b[39;49m\u001b[43mparams\u001b[49m\u001b[43m,\u001b[49m\n\u001b[1;32m    710\u001b[0m \u001b[43m            \u001b[49m\u001b[43mcoerce_float\u001b[49m\u001b[38;5;241;43m=\u001b[39;49m\u001b[43mcoerce_float\u001b[49m\u001b[43m,\u001b[49m\n\u001b[1;32m    711\u001b[0m \u001b[43m            \u001b[49m\u001b[43mparse_dates\u001b[49m\u001b[38;5;241;43m=\u001b[39;49m\u001b[43mparse_dates\u001b[49m\u001b[43m,\u001b[49m\n\u001b[1;32m    712\u001b[0m \u001b[43m            \u001b[49m\u001b[43mchunksize\u001b[49m\u001b[38;5;241;43m=\u001b[39;49m\u001b[43mchunksize\u001b[49m\u001b[43m,\u001b[49m\n\u001b[1;32m    713\u001b[0m \u001b[43m            \u001b[49m\u001b[43mdtype_backend\u001b[49m\u001b[38;5;241;43m=\u001b[39;49m\u001b[43mdtype_backend\u001b[49m\u001b[43m,\u001b[49m\n\u001b[1;32m    714\u001b[0m \u001b[43m            \u001b[49m\u001b[43mdtype\u001b[49m\u001b[38;5;241;43m=\u001b[39;49m\u001b[43mdtype\u001b[49m\u001b[43m,\u001b[49m\n\u001b[1;32m    715\u001b[0m \u001b[43m        \u001b[49m\u001b[43m)\u001b[49m\n\u001b[1;32m    717\u001b[0m     \u001b[38;5;28;01mtry\u001b[39;00m:\n\u001b[1;32m    718\u001b[0m         _is_table_name \u001b[38;5;241m=\u001b[39m pandas_sql\u001b[38;5;241m.\u001b[39mhas_table(sql)\n",
      "File \u001b[0;32m/var/home/f0kes/dev/vae-cf-2/.venv/lib/python3.11/site-packages/pandas/io/sql.py:2738\u001b[0m, in \u001b[0;36mSQLiteDatabase.read_query\u001b[0;34m(self, sql, index_col, coerce_float, parse_dates, params, chunksize, dtype, dtype_backend)\u001b[0m\n\u001b[1;32m   2727\u001b[0m \u001b[38;5;28;01mdef\u001b[39;00m \u001b[38;5;21mread_query\u001b[39m(\n\u001b[1;32m   2728\u001b[0m     \u001b[38;5;28mself\u001b[39m,\n\u001b[1;32m   2729\u001b[0m     sql,\n\u001b[0;32m   (...)\u001b[0m\n\u001b[1;32m   2736\u001b[0m     dtype_backend: DtypeBackend \u001b[38;5;241m|\u001b[39m Literal[\u001b[38;5;124m\"\u001b[39m\u001b[38;5;124mnumpy\u001b[39m\u001b[38;5;124m\"\u001b[39m] \u001b[38;5;241m=\u001b[39m \u001b[38;5;124m\"\u001b[39m\u001b[38;5;124mnumpy\u001b[39m\u001b[38;5;124m\"\u001b[39m,\n\u001b[1;32m   2737\u001b[0m ) \u001b[38;5;241m-\u001b[39m\u001b[38;5;241m>\u001b[39m DataFrame \u001b[38;5;241m|\u001b[39m Iterator[DataFrame]:\n\u001b[0;32m-> 2738\u001b[0m     cursor \u001b[38;5;241m=\u001b[39m \u001b[38;5;28;43mself\u001b[39;49m\u001b[38;5;241;43m.\u001b[39;49m\u001b[43mexecute\u001b[49m\u001b[43m(\u001b[49m\u001b[43msql\u001b[49m\u001b[43m,\u001b[49m\u001b[43m \u001b[49m\u001b[43mparams\u001b[49m\u001b[43m)\u001b[49m\n\u001b[1;32m   2739\u001b[0m     columns \u001b[38;5;241m=\u001b[39m [col_desc[\u001b[38;5;241m0\u001b[39m] \u001b[38;5;28;01mfor\u001b[39;00m col_desc \u001b[38;5;129;01min\u001b[39;00m cursor\u001b[38;5;241m.\u001b[39mdescription]\n\u001b[1;32m   2741\u001b[0m     \u001b[38;5;28;01mif\u001b[39;00m chunksize \u001b[38;5;129;01mis\u001b[39;00m \u001b[38;5;129;01mnot\u001b[39;00m \u001b[38;5;28;01mNone\u001b[39;00m:\n",
      "File \u001b[0;32m/var/home/f0kes/dev/vae-cf-2/.venv/lib/python3.11/site-packages/pandas/io/sql.py:2674\u001b[0m, in \u001b[0;36mSQLiteDatabase.execute\u001b[0;34m(self, sql, params)\u001b[0m\n\u001b[1;32m   2672\u001b[0m cur \u001b[38;5;241m=\u001b[39m \u001b[38;5;28mself\u001b[39m\u001b[38;5;241m.\u001b[39mcon\u001b[38;5;241m.\u001b[39mcursor()\n\u001b[1;32m   2673\u001b[0m \u001b[38;5;28;01mtry\u001b[39;00m:\n\u001b[0;32m-> 2674\u001b[0m     \u001b[43mcur\u001b[49m\u001b[38;5;241;43m.\u001b[39;49m\u001b[43mexecute\u001b[49m\u001b[43m(\u001b[49m\u001b[43msql\u001b[49m\u001b[43m,\u001b[49m\u001b[43m \u001b[49m\u001b[38;5;241;43m*\u001b[39;49m\u001b[43margs\u001b[49m\u001b[43m)\u001b[49m\n\u001b[1;32m   2675\u001b[0m     \u001b[38;5;28;01mreturn\u001b[39;00m cur\n\u001b[1;32m   2676\u001b[0m \u001b[38;5;28;01mexcept\u001b[39;00m \u001b[38;5;167;01mException\u001b[39;00m \u001b[38;5;28;01mas\u001b[39;00m exc:\n",
      "File \u001b[0;32m/usr/lib/python3.11/encodings/utf_8.py:15\u001b[0m, in \u001b[0;36mdecode\u001b[0;34m(input, errors)\u001b[0m\n\u001b[1;32m     11\u001b[0m \u001b[38;5;66;03m### Codec APIs\u001b[39;00m\n\u001b[1;32m     13\u001b[0m encode \u001b[38;5;241m=\u001b[39m codecs\u001b[38;5;241m.\u001b[39mutf_8_encode\n\u001b[0;32m---> 15\u001b[0m \u001b[38;5;28;01mdef\u001b[39;00m \u001b[38;5;21mdecode\u001b[39m(\u001b[38;5;28minput\u001b[39m, errors\u001b[38;5;241m=\u001b[39m\u001b[38;5;124m'\u001b[39m\u001b[38;5;124mstrict\u001b[39m\u001b[38;5;124m'\u001b[39m):\n\u001b[1;32m     16\u001b[0m     \u001b[38;5;28;01mreturn\u001b[39;00m codecs\u001b[38;5;241m.\u001b[39mutf_8_decode(\u001b[38;5;28minput\u001b[39m, errors, \u001b[38;5;28;01mTrue\u001b[39;00m)\n\u001b[1;32m     18\u001b[0m \u001b[38;5;28;01mclass\u001b[39;00m \u001b[38;5;21;01mIncrementalEncoder\u001b[39;00m(codecs\u001b[38;5;241m.\u001b[39mIncrementalEncoder):\n",
      "\u001b[0;31mKeyboardInterrupt\u001b[0m: "
     ]
    }
   ],
   "source": [
    "query = \"\"\"SELECT DISTINCT ON (steam_id,game_id) steam_id, game_id, playtime_forever, playtime_two_weeks\n",
    "FROM public.played_time\n",
    "ORDER BY steam_id, game_id, time_stamp DESC\n",
    "\n",
    "                    \n",
    "        \"\"\"\n",
    "df = pg.load_data_into_dataframe(query)\n",
    "df.head()"
   ]
  },
  {
   "cell_type": "code",
   "execution_count": 6,
   "id": "270e6afbc57cf373",
   "metadata": {
    "ExecuteTime": {
     "end_time": "2024-04-20T10:22:48.740935756Z",
     "start_time": "2024-04-20T10:22:29.280762838Z"
    },
    "collapsed": false
   },
   "outputs": [
    {
     "name": "stderr",
     "output_type": "stream",
     "text": [
      "/var/home/f0kes/dev/vae-cf-2/RecVAE/postgres_loader.py:45: UserWarning: pandas only supports SQLAlchemy connectable (engine/connection) or database string URI or sqlite3 DBAPI2 connection. Other DBAPI2 objects are not tested. Please consider using SQLAlchemy.\n",
      "  df = pd.read_sql(query, self.conn)\n"
     ]
    },
    {
     "data": {
      "text/html": [
       "<div>\n",
       "<style scoped>\n",
       "    .dataframe tbody tr th:only-of-type {\n",
       "        vertical-align: middle;\n",
       "    }\n",
       "\n",
       "    .dataframe tbody tr th {\n",
       "        vertical-align: top;\n",
       "    }\n",
       "\n",
       "    .dataframe thead th {\n",
       "        text-align: right;\n",
       "    }\n",
       "</style>\n",
       "<table border=\"1\" class=\"dataframe\">\n",
       "  <thead>\n",
       "    <tr style=\"text-align: right;\">\n",
       "      <th></th>\n",
       "      <th>steam_id</th>\n",
       "      <th>game_id</th>\n",
       "      <th>playtime_forever</th>\n",
       "      <th>playtime_two_weeks</th>\n",
       "    </tr>\n",
       "  </thead>\n",
       "  <tbody>\n",
       "    <tr>\n",
       "      <th>0</th>\n",
       "      <td>76561197960266298</td>\n",
       "      <td>250820</td>\n",
       "      <td>191617</td>\n",
       "      <td>1155</td>\n",
       "    </tr>\n",
       "    <tr>\n",
       "      <th>1</th>\n",
       "      <td>76561197960266298</td>\n",
       "      <td>438100</td>\n",
       "      <td>84331</td>\n",
       "      <td>1408</td>\n",
       "    </tr>\n",
       "    <tr>\n",
       "      <th>2</th>\n",
       "      <td>76561197960266298</td>\n",
       "      <td>553850</td>\n",
       "      <td>6008</td>\n",
       "      <td>1051</td>\n",
       "    </tr>\n",
       "    <tr>\n",
       "      <th>3</th>\n",
       "      <td>76561197960266298</td>\n",
       "      <td>1085660</td>\n",
       "      <td>9208</td>\n",
       "      <td>18</td>\n",
       "    </tr>\n",
       "    <tr>\n",
       "      <th>4</th>\n",
       "      <td>76561197960266298</td>\n",
       "      <td>1091500</td>\n",
       "      <td>270</td>\n",
       "      <td>9</td>\n",
       "    </tr>\n",
       "  </tbody>\n",
       "</table>\n",
       "</div>"
      ],
      "text/plain": [
       "            steam_id  game_id  playtime_forever  playtime_two_weeks\n",
       "0  76561197960266298   250820            191617                1155\n",
       "1  76561197960266298   438100             84331                1408\n",
       "2  76561197960266298   553850              6008                1051\n",
       "3  76561197960266298  1085660              9208                  18\n",
       "4  76561197960266298  1091500               270                   9"
      ]
     },
     "execution_count": 6,
     "metadata": {},
     "output_type": "execute_result"
    }
   ],
   "source": [
    "query2 = \"\"\"SELECT DISTINCT ON (steam_id,game_id) steam_id, game_id, playtime_forever, playtime_two_weeks\n",
    "FROM public.played_time\n",
    "WHERE played_time.time_stamp <= CURRENT_TIMESTAMP - INTERVAL '1 day'\n",
    "ORDER BY steam_id, game_id, time_stamp DESC\n",
    "\"\"\"\n",
    "df2 = pg.load_data_into_dataframe(query2)\n",
    "df2.head()"
   ]
  },
  {
   "cell_type": "code",
   "execution_count": 78,
   "id": "99700040b14b2921",
   "metadata": {
    "ExecuteTime": {
     "end_time": "2024-04-20T11:18:45.320012103Z",
     "start_time": "2024-04-20T11:18:45.126234730Z"
    },
    "collapsed": false
   },
   "outputs": [
    {
     "name": "stdout",
     "output_type": "stream",
     "text": [
      "2.9404393601179737\n",
      "8.042704680674136\n",
      "13786\n"
     ]
    },
    {
     "data": {
      "text/html": [
       "<div>\n",
       "<style scoped>\n",
       "    .dataframe tbody tr th:only-of-type {\n",
       "        vertical-align: middle;\n",
       "    }\n",
       "\n",
       "    .dataframe tbody tr th {\n",
       "        vertical-align: top;\n",
       "    }\n",
       "\n",
       "    .dataframe thead th {\n",
       "        text-align: right;\n",
       "    }\n",
       "</style>\n",
       "<table border=\"1\" class=\"dataframe\">\n",
       "  <thead>\n",
       "    <tr style=\"text-align: right;\">\n",
       "      <th></th>\n",
       "      <th>game_id</th>\n",
       "      <th>growth_rate</th>\n",
       "      <th>playtime_forever_now</th>\n",
       "      <th>playtime_forever_yesterday</th>\n",
       "    </tr>\n",
       "    <tr>\n",
       "      <th>game_id</th>\n",
       "      <th></th>\n",
       "      <th></th>\n",
       "      <th></th>\n",
       "      <th></th>\n",
       "    </tr>\n",
       "  </thead>\n",
       "  <tbody>\n",
       "    <tr>\n",
       "      <th>219</th>\n",
       "      <td>219</td>\n",
       "      <td>0.000064</td>\n",
       "      <td>-0.047457</td>\n",
       "      <td>-0.034740</td>\n",
       "    </tr>\n",
       "    <tr>\n",
       "      <th>410</th>\n",
       "      <td>410</td>\n",
       "      <td>0.000238</td>\n",
       "      <td>-1.709129</td>\n",
       "      <td>-1.697784</td>\n",
       "    </tr>\n",
       "    <tr>\n",
       "      <th>513</th>\n",
       "      <td>513</td>\n",
       "      <td>0.000000</td>\n",
       "      <td>0.028835</td>\n",
       "      <td>0.042205</td>\n",
       "    </tr>\n",
       "    <tr>\n",
       "      <th>640</th>\n",
       "      <td>640</td>\n",
       "      <td>0.000916</td>\n",
       "      <td>1.206792</td>\n",
       "      <td>1.209708</td>\n",
       "    </tr>\n",
       "    <tr>\n",
       "      <th>644</th>\n",
       "      <td>644</td>\n",
       "      <td>0.000488</td>\n",
       "      <td>1.765458</td>\n",
       "      <td>1.772983</td>\n",
       "    </tr>\n",
       "    <tr>\n",
       "      <th>...</th>\n",
       "      <td>...</td>\n",
       "      <td>...</td>\n",
       "      <td>...</td>\n",
       "      <td>...</td>\n",
       "    </tr>\n",
       "    <tr>\n",
       "      <th>2926190</th>\n",
       "      <td>2926190</td>\n",
       "      <td>0.000000</td>\n",
       "      <td>-1.944129</td>\n",
       "      <td>-1.930759</td>\n",
       "    </tr>\n",
       "    <tr>\n",
       "      <th>2927300</th>\n",
       "      <td>2927300</td>\n",
       "      <td>0.000000</td>\n",
       "      <td>-1.943873</td>\n",
       "      <td>-1.930503</td>\n",
       "    </tr>\n",
       "    <tr>\n",
       "      <th>2928150</th>\n",
       "      <td>2928150</td>\n",
       "      <td>0.000000</td>\n",
       "      <td>-1.986210</td>\n",
       "      <td>-1.972840</td>\n",
       "    </tr>\n",
       "    <tr>\n",
       "      <th>2932830</th>\n",
       "      <td>2932830</td>\n",
       "      <td>0.000000</td>\n",
       "      <td>-1.894937</td>\n",
       "      <td>-1.881567</td>\n",
       "    </tr>\n",
       "    <tr>\n",
       "      <th>2933700</th>\n",
       "      <td>2933700</td>\n",
       "      <td>NaN</td>\n",
       "      <td>-0.694772</td>\n",
       "      <td>NaN</td>\n",
       "    </tr>\n",
       "  </tbody>\n",
       "</table>\n",
       "<p>13786 rows × 4 columns</p>\n",
       "</div>"
      ],
      "text/plain": [
       "         game_id  growth_rate  playtime_forever_now  \\\n",
       "game_id                                               \n",
       "219          219     0.000064             -0.047457   \n",
       "410          410     0.000238             -1.709129   \n",
       "513          513     0.000000              0.028835   \n",
       "640          640     0.000916              1.206792   \n",
       "644          644     0.000488              1.765458   \n",
       "...          ...          ...                   ...   \n",
       "2926190  2926190     0.000000             -1.944129   \n",
       "2927300  2927300     0.000000             -1.943873   \n",
       "2928150  2928150     0.000000             -1.986210   \n",
       "2932830  2932830     0.000000             -1.894937   \n",
       "2933700  2933700          NaN             -0.694772   \n",
       "\n",
       "         playtime_forever_yesterday  \n",
       "game_id                              \n",
       "219                       -0.034740  \n",
       "410                       -1.697784  \n",
       "513                        0.042205  \n",
       "640                        1.209708  \n",
       "644                        1.772983  \n",
       "...                             ...  \n",
       "2926190                   -1.930759  \n",
       "2927300                   -1.930503  \n",
       "2928150                   -1.972840  \n",
       "2932830                   -1.881567  \n",
       "2933700                         NaN  \n",
       "\n",
       "[13786 rows x 4 columns]"
      ]
     },
     "execution_count": 78,
     "metadata": {},
     "output_type": "execute_result"
    }
   ],
   "source": [
    "import pandas as pd\n",
    "\n",
    "df_game = df.groupby('game_id')['playtime_forever'].sum()\n",
    "df_game_yesterday = df2.groupby('game_id')['playtime_forever'].sum()\n",
    "\n",
    "#filter out games, with less than 60 minutes of playtime\n",
    "df_game = df_game[df_game > 60]\n",
    "df_game_yesterday = df_game_yesterday[df_game_yesterday > 60]\n",
    "#log transform\n",
    "df_game = np.log(df_game)\n",
    "df_game_yesterday = np.log(df_game_yesterday)\n",
    "\n",
    "s = df_game.std()\n",
    "m = df_game.mean()\n",
    "print(s)\n",
    "print(m)\n",
    "\n",
    "#filter out outliers\n",
    "df_game = df_game[(df_game < m + 2 * s) & (df_game > m)]\n",
    "df_game_yesterday = df_game_yesterday[(df_game_yesterday < m + 2 * s) & (df_game_yesterday > m)]\n",
    "\n",
    "growth_rate = (df_game - df_game_yesterday) / df_game_yesterday\n",
    "\n",
    "# Filter out games with significant growth rate\n",
    "d = {'game_id': growth_rate.index, 'growth_rate': growth_rate, 'playtime_forever_now': df_game - df_game.mean(),\n",
    "     'playtime_forever_yesterday': df_game_yesterday - df_game_yesterday.mean()}\n",
    "# Sort fast growers by growth rate\n",
    "fast_growers = pd.DataFrame(data=d)\n",
    "\n",
    "print(len(fast_growers))\n",
    "fast_growers"
   ]
  },
  {
   "cell_type": "code",
   "execution_count": 5,
   "id": "c6bcf95b443a371f",
   "metadata": {
    "ExecuteTime": {
     "end_time": "2024-04-20T10:20:25.940463629Z",
     "start_time": "2024-04-20T10:20:25.914550524Z"
    },
    "collapsed": false
   },
   "outputs": [
    {
     "name": "stdout",
     "output_type": "stream",
     "text": [
      "Mean: 20503.67947716041, std: 67180.10350964409, top_threshold: 154863.8864964486, bottom_threshold: -113856.52754212776\n"
     ]
    }
   ],
   "source": [
    "mean = df['playtime_forever'].mean()\n",
    "std = df['playtime_forever'].std()\n",
    "\n",
    "top_threshold = mean + 2 * std\n",
    "bottom_threshold = mean - 2 * std\n",
    "\n",
    "print(f\"Mean: {mean}, std: {std}, top_threshold: {top_threshold}, bottom_threshold: {bottom_threshold}\")"
   ]
  },
  {
   "cell_type": "code",
   "execution_count": 253,
   "id": "2aceac69e4e10c57",
   "metadata": {
    "ExecuteTime": {
     "end_time": "2024-04-17T10:27:46.325022697Z",
     "start_time": "2024-04-17T10:27:46.051223890Z"
    },
    "collapsed": false
   },
   "outputs": [
    {
     "data": {
      "text/html": [
       "<div>\n",
       "<style scoped>\n",
       "    .dataframe tbody tr th:only-of-type {\n",
       "        vertical-align: middle;\n",
       "    }\n",
       "\n",
       "    .dataframe tbody tr th {\n",
       "        vertical-align: top;\n",
       "    }\n",
       "\n",
       "    .dataframe thead th {\n",
       "        text-align: right;\n",
       "    }\n",
       "</style>\n",
       "<table border=\"1\" class=\"dataframe\">\n",
       "  <thead>\n",
       "    <tr style=\"text-align: right;\">\n",
       "      <th></th>\n",
       "      <th>steam_id</th>\n",
       "      <th>game_id</th>\n",
       "      <th>playtime_forever</th>\n",
       "      <th>playtime_two_weeks</th>\n",
       "    </tr>\n",
       "  </thead>\n",
       "  <tbody>\n",
       "    <tr>\n",
       "      <th>0</th>\n",
       "      <td>76561197960266910</td>\n",
       "      <td>236390</td>\n",
       "      <td>13027</td>\n",
       "      <td>47</td>\n",
       "    </tr>\n",
       "    <tr>\n",
       "      <th>1</th>\n",
       "      <td>76561197960266910</td>\n",
       "      <td>252950</td>\n",
       "      <td>9543</td>\n",
       "      <td>12</td>\n",
       "    </tr>\n",
       "    <tr>\n",
       "      <th>2</th>\n",
       "      <td>76561197960266910</td>\n",
       "      <td>518790</td>\n",
       "      <td>7868</td>\n",
       "      <td>1</td>\n",
       "    </tr>\n",
       "    <tr>\n",
       "      <th>3</th>\n",
       "      <td>76561197960266910</td>\n",
       "      <td>635260</td>\n",
       "      <td>2884</td>\n",
       "      <td>30</td>\n",
       "    </tr>\n",
       "    <tr>\n",
       "      <th>4</th>\n",
       "      <td>76561197960266910</td>\n",
       "      <td>1849250</td>\n",
       "      <td>991</td>\n",
       "      <td>6</td>\n",
       "    </tr>\n",
       "  </tbody>\n",
       "</table>\n",
       "</div>"
      ],
      "text/plain": [
       "            steam_id  game_id  playtime_forever  playtime_two_weeks\n",
       "0  76561197960266910   236390             13027                  47\n",
       "1  76561197960266910   252950              9543                  12\n",
       "2  76561197960266910   518790              7868                   1\n",
       "3  76561197960266910   635260              2884                  30\n",
       "4  76561197960266910  1849250               991                   6"
      ]
     },
     "execution_count": 253,
     "metadata": {},
     "output_type": "execute_result"
    }
   ],
   "source": [
    "df_filtered = df[(df['playtime_forever'] > 60)]\n",
    "df_filtered.head()\n"
   ]
  },
  {
   "cell_type": "code",
   "execution_count": 254,
   "id": "ec8f298e6c0b380d",
   "metadata": {
    "ExecuteTime": {
     "end_time": "2024-04-17T10:27:46.990637635Z",
     "start_time": "2024-04-17T10:27:46.983040802Z"
    },
    "collapsed": false
   },
   "outputs": [
    {
     "data": {
      "text/plain": [
       "25371.325859357257"
      ]
     },
     "execution_count": 254,
     "metadata": {},
     "output_type": "execute_result"
    }
   ],
   "source": [
    "df_filtered['playtime_forever'].mean()"
   ]
  },
  {
   "cell_type": "code",
   "execution_count": 255,
   "id": "fa3c194c78fa3717",
   "metadata": {
    "ExecuteTime": {
     "end_time": "2024-04-17T10:27:47.443807532Z",
     "start_time": "2024-04-17T10:27:47.431231038Z"
    },
    "collapsed": false
   },
   "outputs": [
    {
     "data": {
      "text/plain": [
       "74223.01394325723"
      ]
     },
     "execution_count": 255,
     "metadata": {},
     "output_type": "execute_result"
    }
   ],
   "source": [
    "df_filtered['playtime_forever'].std()"
   ]
  },
  {
   "cell_type": "markdown",
   "id": "5c3f23ba6ab8c044",
   "metadata": {
    "collapsed": false
   },
   "source": []
  },
  {
   "cell_type": "code",
   "execution_count": 256,
   "id": "f8c831ba99ff3fe",
   "metadata": {
    "ExecuteTime": {
     "end_time": "2024-04-17T10:27:48.492967823Z",
     "start_time": "2024-04-17T10:27:48.269669116Z"
    },
    "collapsed": false
   },
   "outputs": [
    {
     "data": {
      "text/html": [
       "<div>\n",
       "<style scoped>\n",
       "    .dataframe tbody tr th:only-of-type {\n",
       "        vertical-align: middle;\n",
       "    }\n",
       "\n",
       "    .dataframe tbody tr th {\n",
       "        vertical-align: top;\n",
       "    }\n",
       "\n",
       "    .dataframe thead th {\n",
       "        text-align: right;\n",
       "    }\n",
       "</style>\n",
       "<table border=\"1\" class=\"dataframe\">\n",
       "  <thead>\n",
       "    <tr style=\"text-align: right;\">\n",
       "      <th></th>\n",
       "      <th>steam_id</th>\n",
       "      <th>game_id</th>\n",
       "      <th>playtime_forever</th>\n",
       "      <th>playtime_two_weeks</th>\n",
       "    </tr>\n",
       "  </thead>\n",
       "  <tbody>\n",
       "    <tr>\n",
       "      <th>0</th>\n",
       "      <td>76561197960266910</td>\n",
       "      <td>236390</td>\n",
       "      <td>0.469727</td>\n",
       "      <td>47</td>\n",
       "    </tr>\n",
       "    <tr>\n",
       "      <th>1</th>\n",
       "      <td>76561197960266910</td>\n",
       "      <td>252950</td>\n",
       "      <td>0.442473</td>\n",
       "      <td>12</td>\n",
       "    </tr>\n",
       "    <tr>\n",
       "      <th>2</th>\n",
       "      <td>76561197960266910</td>\n",
       "      <td>518790</td>\n",
       "      <td>0.425572</td>\n",
       "      <td>1</td>\n",
       "    </tr>\n",
       "    <tr>\n",
       "      <th>3</th>\n",
       "      <td>76561197960266910</td>\n",
       "      <td>635260</td>\n",
       "      <td>0.337682</td>\n",
       "      <td>30</td>\n",
       "    </tr>\n",
       "    <tr>\n",
       "      <th>4</th>\n",
       "      <td>76561197960266910</td>\n",
       "      <td>1849250</td>\n",
       "      <td>0.244136</td>\n",
       "      <td>6</td>\n",
       "    </tr>\n",
       "  </tbody>\n",
       "</table>\n",
       "</div>"
      ],
      "text/plain": [
       "            steam_id  game_id  playtime_forever  playtime_two_weeks\n",
       "0  76561197960266910   236390          0.469727                  47\n",
       "1  76561197960266910   252950          0.442473                  12\n",
       "2  76561197960266910   518790          0.425572                   1\n",
       "3  76561197960266910   635260          0.337682                  30\n",
       "4  76561197960266910  1849250          0.244136                   6"
      ]
     },
     "execution_count": 256,
     "metadata": {},
     "output_type": "execute_result"
    }
   ],
   "source": [
    "df_time_normalized = df_filtered.copy()\n",
    "df_time_normalized['playtime_forever'] = np.log(df_time_normalized['playtime_forever'])\n",
    "df_time_normalized['playtime_forever'] = (df_time_normalized['playtime_forever'] - df_time_normalized[\n",
    "    'playtime_forever'].min()) / (df_time_normalized['playtime_forever'].max() - df_time_normalized[\n",
    "    'playtime_forever'].min())\n",
    "df_time_normalized.head()"
   ]
  },
  {
   "cell_type": "code",
   "execution_count": 257,
   "id": "78e50ea2d44cce2",
   "metadata": {
    "ExecuteTime": {
     "end_time": "2024-04-17T10:27:49.203801999Z",
     "start_time": "2024-04-17T10:27:49.195522775Z"
    },
    "collapsed": false
   },
   "outputs": [
    {
     "data": {
      "text/plain": [
       "0.34461206526444776"
      ]
     },
     "execution_count": 257,
     "metadata": {},
     "output_type": "execute_result"
    }
   ],
   "source": [
    "df_time_normalized['playtime_forever'].mean()"
   ]
  },
  {
   "cell_type": "code",
   "execution_count": 258,
   "id": "7e91401253c0f418",
   "metadata": {
    "ExecuteTime": {
     "end_time": "2024-04-17T10:27:49.642447397Z",
     "start_time": "2024-04-17T10:27:49.623247240Z"
    },
    "collapsed": false
   },
   "outputs": [
    {
     "data": {
      "text/plain": [
       "0.1954087488732006"
      ]
     },
     "execution_count": 258,
     "metadata": {},
     "output_type": "execute_result"
    }
   ],
   "source": [
    "df_time_normalized['playtime_forever'].std()"
   ]
  },
  {
   "cell_type": "code",
   "execution_count": 259,
   "id": "23e0ee987387a5c6",
   "metadata": {
    "ExecuteTime": {
     "end_time": "2024-04-17T10:27:50.150729651Z",
     "start_time": "2024-04-17T10:27:50.000857066Z"
    },
    "collapsed": false
   },
   "outputs": [
    {
     "data": {
      "text/plain": [
       "(array([5.3527e+04, 5.0017e+04, 5.1730e+04, 5.9952e+04, 5.5169e+04,\n",
       "        6.4376e+04, 6.4940e+04, 6.9315e+04, 6.5680e+04, 7.2583e+04,\n",
       "        7.9279e+04, 8.0970e+04, 8.4967e+04, 8.7099e+04, 8.9406e+04,\n",
       "        8.5367e+04, 8.5279e+04, 8.4420e+04, 8.5334e+04, 8.3465e+04,\n",
       "        8.4709e+04, 8.5488e+04, 8.5917e+04, 8.3890e+04, 8.3780e+04,\n",
       "        8.4015e+04, 8.4838e+04, 8.4235e+04, 8.4921e+04, 8.4495e+04,\n",
       "        8.4873e+04, 8.4535e+04, 8.5186e+04, 8.4792e+04, 8.4413e+04,\n",
       "        8.3904e+04, 8.3460e+04, 8.2546e+04, 8.1354e+04, 7.9889e+04,\n",
       "        8.0162e+04, 7.8001e+04, 7.6306e+04, 7.4768e+04, 7.3237e+04,\n",
       "        7.2306e+04, 7.2704e+04, 7.1152e+04, 7.1122e+04, 7.0898e+04,\n",
       "        7.0846e+04, 6.9640e+04, 6.9251e+04, 6.8661e+04, 6.9091e+04,\n",
       "        6.7711e+04, 6.7892e+04, 6.6113e+04, 6.4103e+04, 6.2579e+04,\n",
       "        6.2012e+04, 6.0596e+04, 5.8265e+04, 5.5140e+04, 5.1335e+04,\n",
       "        4.7107e+04, 4.3346e+04, 3.8850e+04, 3.5051e+04, 3.1399e+04,\n",
       "        2.7102e+04, 2.3001e+04, 1.9162e+04, 1.6142e+04, 1.3413e+04,\n",
       "        1.1076e+04, 8.4630e+03, 6.4660e+03, 4.8930e+03, 3.7680e+03,\n",
       "        2.6710e+03, 1.9730e+03, 1.4210e+03, 1.0100e+03, 7.1700e+02,\n",
       "        6.1500e+02, 5.4300e+02, 3.0500e+02, 2.6300e+02, 2.4200e+02,\n",
       "        2.3500e+02, 2.4400e+02, 1.9200e+02, 1.1800e+02, 1.0400e+02,\n",
       "        6.3000e+01, 5.9000e+01, 2.8000e+01, 5.0000e+00, 3.0000e+00]),\n",
       " array([0.  , 0.01, 0.02, 0.03, 0.04, 0.05, 0.06, 0.07, 0.08, 0.09, 0.1 ,\n",
       "        0.11, 0.12, 0.13, 0.14, 0.15, 0.16, 0.17, 0.18, 0.19, 0.2 , 0.21,\n",
       "        0.22, 0.23, 0.24, 0.25, 0.26, 0.27, 0.28, 0.29, 0.3 , 0.31, 0.32,\n",
       "        0.33, 0.34, 0.35, 0.36, 0.37, 0.38, 0.39, 0.4 , 0.41, 0.42, 0.43,\n",
       "        0.44, 0.45, 0.46, 0.47, 0.48, 0.49, 0.5 , 0.51, 0.52, 0.53, 0.54,\n",
       "        0.55, 0.56, 0.57, 0.58, 0.59, 0.6 , 0.61, 0.62, 0.63, 0.64, 0.65,\n",
       "        0.66, 0.67, 0.68, 0.69, 0.7 , 0.71, 0.72, 0.73, 0.74, 0.75, 0.76,\n",
       "        0.77, 0.78, 0.79, 0.8 , 0.81, 0.82, 0.83, 0.84, 0.85, 0.86, 0.87,\n",
       "        0.88, 0.89, 0.9 , 0.91, 0.92, 0.93, 0.94, 0.95, 0.96, 0.97, 0.98,\n",
       "        0.99, 1.  ]),\n",
       " <BarContainer object of 100 artists>)"
      ]
     },
     "execution_count": 259,
     "metadata": {},
     "output_type": "execute_result"
    },
    {
     "data": {
      "image/png": "[encoded data removed]",
      "text/plain": [
       "<Figure size 640x480 with 1 Axes>"
      ]
     },
     "metadata": {},
     "output_type": "display_data"
    }
   ],
   "source": [
    "#plot playtime distribution\n",
    "plt.hist(df_time_normalized['playtime_forever'], bins=100)"
   ]
  },
  {
   "cell_type": "code",
   "execution_count": 260,
   "id": "e812f74517ff7b72",
   "metadata": {
    "ExecuteTime": {
     "end_time": "2024-04-17T10:27:50.907825299Z",
     "start_time": "2024-04-17T10:27:50.902209604Z"
    },
    "collapsed": false
   },
   "outputs": [],
   "source": [
    "from pandas import DataFrame\n",
    "\n",
    "\n",
    "def get_count(tp: DataFrame, id) -> DataFrame:\n",
    "    playcount_groupbyid = tp[[id]].groupby(id, as_index=False)\n",
    "    count = playcount_groupbyid.size()\n",
    "    return count"
   ]
  },
  {
   "cell_type": "code",
   "execution_count": 261,
   "id": "9d04e81cbbd775d4",
   "metadata": {
    "ExecuteTime": {
     "end_time": "2024-04-17T10:27:52.814655651Z",
     "start_time": "2024-04-17T10:27:52.206236540Z"
    },
    "collapsed": false
   },
   "outputs": [
    {
     "data": {
      "text/html": [
       "<div>\n",
       "<style scoped>\n",
       "    .dataframe tbody tr th:only-of-type {\n",
       "        vertical-align: middle;\n",
       "    }\n",
       "\n",
       "    .dataframe tbody tr th {\n",
       "        vertical-align: top;\n",
       "    }\n",
       "\n",
       "    .dataframe thead th {\n",
       "        text-align: right;\n",
       "    }\n",
       "</style>\n",
       "<table border=\"1\" class=\"dataframe\">\n",
       "  <thead>\n",
       "    <tr style=\"text-align: right;\">\n",
       "      <th></th>\n",
       "      <th>steam_id</th>\n",
       "      <th>size</th>\n",
       "    </tr>\n",
       "  </thead>\n",
       "  <tbody>\n",
       "    <tr>\n",
       "      <th>0</th>\n",
       "      <td>76561197960266910</td>\n",
       "      <td>6</td>\n",
       "    </tr>\n",
       "    <tr>\n",
       "      <th>1</th>\n",
       "      <td>76561197960268879</td>\n",
       "      <td>1</td>\n",
       "    </tr>\n",
       "    <tr>\n",
       "      <th>2</th>\n",
       "      <td>76561197960269041</td>\n",
       "      <td>2</td>\n",
       "    </tr>\n",
       "    <tr>\n",
       "      <th>3</th>\n",
       "      <td>76561197960269296</td>\n",
       "      <td>1</td>\n",
       "    </tr>\n",
       "    <tr>\n",
       "      <th>4</th>\n",
       "      <td>76561197960269822</td>\n",
       "      <td>7</td>\n",
       "    </tr>\n",
       "    <tr>\n",
       "      <th>...</th>\n",
       "      <td>...</td>\n",
       "      <td>...</td>\n",
       "    </tr>\n",
       "    <tr>\n",
       "      <th>1325815</th>\n",
       "      <td>76561199669502391</td>\n",
       "      <td>1</td>\n",
       "    </tr>\n",
       "    <tr>\n",
       "      <th>1325816</th>\n",
       "      <td>76561199669532308</td>\n",
       "      <td>1</td>\n",
       "    </tr>\n",
       "    <tr>\n",
       "      <th>1325817</th>\n",
       "      <td>76561199669551764</td>\n",
       "      <td>1</td>\n",
       "    </tr>\n",
       "    <tr>\n",
       "      <th>1325818</th>\n",
       "      <td>76561199669615079</td>\n",
       "      <td>1</td>\n",
       "    </tr>\n",
       "    <tr>\n",
       "      <th>1325819</th>\n",
       "      <td>76561199670259839</td>\n",
       "      <td>1</td>\n",
       "    </tr>\n",
       "  </tbody>\n",
       "</table>\n",
       "<p>1325820 rows × 2 columns</p>\n",
       "</div>"
      ],
      "text/plain": [
       "                  steam_id  size\n",
       "0        76561197960266910     6\n",
       "1        76561197960268879     1\n",
       "2        76561197960269041     2\n",
       "3        76561197960269296     1\n",
       "4        76561197960269822     7\n",
       "...                    ...   ...\n",
       "1325815  76561199669502391     1\n",
       "1325816  76561199669532308     1\n",
       "1325817  76561199669551764     1\n",
       "1325818  76561199669615079     1\n",
       "1325819  76561199670259839     1\n",
       "\n",
       "[1325820 rows x 2 columns]"
      ]
     },
     "execution_count": 261,
     "metadata": {},
     "output_type": "execute_result"
    }
   ],
   "source": [
    "usercount, itemcount = get_count(df_time_normalized, 'steam_id'), get_count(df_time_normalized, 'game_id')\n",
    "get_count(df_time_normalized, 'steam_id')"
   ]
  },
  {
   "cell_type": "code",
   "execution_count": 262,
   "id": "5f0aac4d2687f304",
   "metadata": {
    "ExecuteTime": {
     "end_time": "2024-04-17T10:27:52.815383682Z",
     "start_time": "2024-04-17T10:27:52.813201625Z"
    },
    "collapsed": false
   },
   "outputs": [
    {
     "data": {
      "text/plain": [
       "0.0001113707588961643"
      ]
     },
     "execution_count": 262,
     "metadata": {},
     "output_type": "execute_result"
    }
   ],
   "source": [
    "def filter_triplets(tp: DataFrame, min_uc=0, min_sc=5):\n",
    "    if min_sc > 0:\n",
    "        itemcount = get_count(tp, 'game_id')\n",
    "        tp = tp[tp['game_id'].isin(itemcount.index[itemcount >= min_sc])]\n",
    "\n",
    "    if min_uc > 0:\n",
    "        usercount = get_count(tp, 'steam_id')\n",
    "        tp = tp[tp['steam_id'].isin(usercount.index[usercount >= min_uc])]\n",
    "\n",
    "    usercount, itemcount = get_count(tp, 'steam_id'), get_count(tp, 'game_id')\n",
    "    return tp, usercount, itemcount\n",
    "\n",
    "\n",
    "sparsity = 1. * df_time_normalized.shape[0] / (usercount.shape[0] * itemcount.shape[0])\n",
    "sparsity\n"
   ]
  },
  {
   "cell_type": "code",
   "execution_count": 263,
   "id": "708e750ff7cf9cb4",
   "metadata": {
    "ExecuteTime": {
     "end_time": "2024-04-17T10:27:55.618988477Z",
     "start_time": "2024-04-17T10:27:55.228891737Z"
    },
    "collapsed": false
   },
   "outputs": [],
   "source": [
    "game_to_idx = {game: idx for idx, game in enumerate(df_time_normalized['game_id'].unique())}\n",
    "idx_to_game = {idx: game for game, idx in game_to_idx.items()}\n",
    "user_to_idx = {user: idx for idx, user in enumerate(df_time_normalized['steam_id'].unique())}\n",
    "idx_to_user = {idx: user for user, idx in user_to_idx.items()}"
   ]
  },
  {
   "cell_type": "code",
   "execution_count": 264,
   "id": "17896311d11af9a0",
   "metadata": {
    "ExecuteTime": {
     "end_time": "2024-04-17T10:28:07.969704438Z",
     "start_time": "2024-04-17T10:27:56.293855528Z"
    },
    "collapsed": false
   },
   "outputs": [],
   "source": [
    "from numpy.linalg import svd\n",
    "from scipy.sparse import coo_matrix\n",
    "from scipy.sparse.linalg import svds\n",
    "\n",
    "coo_df = coo_matrix((df_time_normalized['playtime_forever'],\n",
    "                     (df_time_normalized['steam_id'].map(user_to_idx),\n",
    "                      df_time_normalized['game_id'].map(game_to_idx))))\n",
    "u, s, vt = svds(coo_df, k=50)\n",
    "\n",
    "\n",
    "def cosine_similarity(item_1, item_2):\n",
    "    return np.dot(item_1, item_2) / (np.linalg.norm(item_1) * np.linalg.norm(item_2))\n",
    "\n",
    "\n",
    "dota_idx = game_to_idx[570]\n",
    "poe_idx = game_to_idx[238960]\n",
    "binding_of_isaac_idx = game_to_idx[250900]\n",
    "\n",
    "\n",
    "def game_avg(game_idx):\n",
    "    return np.mean([vt.T[i] for i in game_idx], axis=0)\n",
    "\n",
    "\n",
    "sims = {idx_to_game[i]: cosine_similarity(game_avg([dota_idx, poe_idx, binding_of_isaac_idx]), vt.T[i]) for i in\n",
    "        range(vt.T.shape[0])}\n",
    "\n",
    "\n",
    "#sort by total playtime\n"
   ]
  },
  {
   "cell_type": "code",
   "execution_count": 274,
   "id": "1def196bee73d5d2",
   "metadata": {
    "ExecuteTime": {
     "end_time": "2024-04-17T10:40:50.622976989Z",
     "start_time": "2024-04-17T10:40:50.135863991Z"
    },
    "collapsed": false
   },
   "outputs": [
    {
     "name": "stderr",
     "output_type": "stream",
     "text": [
      "/tmp/ipykernel_3042150/2849492559.py:8: RuntimeWarning: divide by zero encountered in log\n",
      "  return np.log(playtime_two_weeks[game_id] / (total_playtime[game_id] + playtime_two_weeks[game_id])) * sims[game_id]\n",
      "/tmp/ipykernel_3042150/2849492559.py:8: RuntimeWarning: invalid value encountered in scalar divide\n",
      "  return np.log(playtime_two_weeks[game_id] / (total_playtime[game_id] + playtime_two_weeks[game_id])) * sims[game_id]\n"
     ]
    },
    {
     "data": {
      "text/html": [
       "<div>\n",
       "<style scoped>\n",
       "    .dataframe tbody tr th:only-of-type {\n",
       "        vertical-align: middle;\n",
       "    }\n",
       "\n",
       "    .dataframe tbody tr th {\n",
       "        vertical-align: top;\n",
       "    }\n",
       "\n",
       "    .dataframe thead th {\n",
       "        text-align: right;\n",
       "    }\n",
       "</style>\n",
       "<table border=\"1\" class=\"dataframe\">\n",
       "  <thead>\n",
       "    <tr style=\"text-align: right;\">\n",
       "      <th></th>\n",
       "      <th>game_id</th>\n",
       "      <th>score</th>\n",
       "    </tr>\n",
       "  </thead>\n",
       "  <tbody>\n",
       "    <tr>\n",
       "      <th>32484</th>\n",
       "      <td>566430</td>\n",
       "      <td>inf</td>\n",
       "    </tr>\n",
       "    <tr>\n",
       "      <th>29317</th>\n",
       "      <td>674850</td>\n",
       "      <td>inf</td>\n",
       "    </tr>\n",
       "    <tr>\n",
       "      <th>23910</th>\n",
       "      <td>109500</td>\n",
       "      <td>inf</td>\n",
       "    </tr>\n",
       "    <tr>\n",
       "      <th>2576</th>\n",
       "      <td>319750</td>\n",
       "      <td>inf</td>\n",
       "    </tr>\n",
       "    <tr>\n",
       "      <th>29383</th>\n",
       "      <td>308460</td>\n",
       "      <td>inf</td>\n",
       "    </tr>\n",
       "    <tr>\n",
       "      <th>29369</th>\n",
       "      <td>1088590</td>\n",
       "      <td>inf</td>\n",
       "    </tr>\n",
       "    <tr>\n",
       "      <th>29316</th>\n",
       "      <td>465780</td>\n",
       "      <td>inf</td>\n",
       "    </tr>\n",
       "    <tr>\n",
       "      <th>23908</th>\n",
       "      <td>699740</td>\n",
       "      <td>inf</td>\n",
       "    </tr>\n",
       "    <tr>\n",
       "      <th>23953</th>\n",
       "      <td>848060</td>\n",
       "      <td>inf</td>\n",
       "    </tr>\n",
       "    <tr>\n",
       "      <th>29436</th>\n",
       "      <td>1196440</td>\n",
       "      <td>inf</td>\n",
       "    </tr>\n",
       "  </tbody>\n",
       "</table>\n",
       "</div>"
      ],
      "text/plain": [
       "       game_id  score\n",
       "32484   566430    inf\n",
       "29317   674850    inf\n",
       "23910   109500    inf\n",
       "2576    319750    inf\n",
       "29383   308460    inf\n",
       "29369  1088590    inf\n",
       "29316   465780    inf\n",
       "23908   699740    inf\n",
       "23953   848060    inf\n",
       "29436  1196440    inf"
      ]
     },
     "execution_count": 274,
     "metadata": {},
     "output_type": "execute_result"
    }
   ],
   "source": [
    "total_playtime = df_time_normalized.groupby('game_id')['playtime_forever'].sum()\n",
    "playtime_two_weeks = df_time_normalized.groupby('game_id')['playtime_two_weeks'].sum()\n",
    "total_playtime.head()\n",
    "\n",
    "\n",
    "#score is playtime in two weeks divided by total playtime multiplied by similarity\n",
    "def score(game_id):\n",
    "    return playtime_two_weeks[game_id] / (total_playtime[game_id] + playtime_two_weeks[game_id]) * sims[game_id]\n",
    "\n",
    "\n",
    "score_df = DataFrame(\n",
    "    {'game_id': list(game_to_idx.keys()), 'score': [score(game_id) for game_id in game_to_idx.keys()]})\n",
    "\n",
    "score_df.head()\n",
    "score_df = score_df.sort_values(by='score', ascending=False)\n",
    "score_df.head(10)"
   ]
  },
  {
   "cell_type": "code",
   "execution_count": 237,
   "id": "eeed3bc0c1462771",
   "metadata": {
    "ExecuteTime": {
     "end_time": "2024-04-17T10:00:18.964052306Z",
     "start_time": "2024-04-17T10:00:18.962208345Z"
    },
    "collapsed": false
   },
   "outputs": [
    {
     "data": {
      "text/plain": [
       "[(1452020, 0.7352170044870724),\n",
       " (2228390, 0.7209760055742536),\n",
       " (570, 0.7082692357758303),\n",
       " (1911610, 0.6966505449696614),\n",
       " (250900, 0.6965559015336797),\n",
       " (1608730, 0.6948861021471759),\n",
       " (658150, 0.6943463209628297),\n",
       " (2760480, 0.6942722697763936),\n",
       " (1311250, 0.6942452022505599),\n",
       " (2720970, 0.6929432058322816)]"
      ]
     },
     "execution_count": 237,
     "metadata": {},
     "output_type": "execute_result"
    }
   ],
   "source": []
  },
  {
   "cell_type": "code",
   "execution_count": 240,
   "id": "586c27bf851a6dc",
   "metadata": {
    "ExecuteTime": {
     "end_time": "2024-04-17T10:10:49.374836230Z",
     "start_time": "2024-04-17T10:10:49.299631823Z"
    },
    "collapsed": false
   },
   "outputs": [
    {
     "data": {
      "text/plain": [
       "game_id\n",
       "7        4.400390\n",
       "8        2.500549\n",
       "10    6256.930703\n",
       "20      33.511145\n",
       "30      37.424860\n",
       "Name: playtime_forever, dtype: float64"
      ]
     },
     "execution_count": 240,
     "metadata": {},
     "output_type": "execute_result"
    }
   ],
   "source": []
  },
  {
   "cell_type": "code",
   "execution_count": null,
   "id": "6a8f718bdd7042ae",
   "metadata": {
    "collapsed": false
   },
   "outputs": [],
   "source": []
  }
 ],
 "metadata": {
  "kernelspec": {
   "display_name": "Python 3",
   "language": "python",
   "name": "python3"
  },
  "language_info": {
   "codemirror_mode": {
    "name": "ipython",
    "version": 2
   },
   "file_extension": ".py",
   "mimetype": "text/x-python",
   "name": "python",
   "nbconvert_exporter": "python",
   "pygments_lexer": "ipython2",
   "version": "2.7.6"
  }
 },
 "nbformat": 4,
 "nbformat_minor": 5
}
